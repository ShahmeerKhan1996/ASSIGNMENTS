{
 "cells": [
  {
   "cell_type": "code",
   "execution_count": 1,
   "id": "dd4531ec-b8c9-420a-b1fd-c5fd8fbf9cb0",
   "metadata": {},
   "outputs": [],
   "source": [
    "import pandas as pd\n",
    "import numpy as np\n",
    "import seaborn as sns                       #visualisation\n",
    "import matplotlib.pyplot as plt             #visualisation"
   ]
  },
  {
   "cell_type": "code",
   "execution_count": 2,
   "id": "3c770af2-5687-4693-900e-2b4589e3d84c",
   "metadata": {},
   "outputs": [
    {
     "data": {
      "text/html": [
       "<div>\n",
       "<style scoped>\n",
       "    .dataframe tbody tr th:only-of-type {\n",
       "        vertical-align: middle;\n",
       "    }\n",
       "\n",
       "    .dataframe tbody tr th {\n",
       "        vertical-align: top;\n",
       "    }\n",
       "\n",
       "    .dataframe thead th {\n",
       "        text-align: right;\n",
       "    }\n",
       "</style>\n",
       "<table border=\"1\" class=\"dataframe\">\n",
       "  <thead>\n",
       "    <tr style=\"text-align: right;\">\n",
       "      <th></th>\n",
       "      <th>invoice_no</th>\n",
       "      <th>invoice_date</th>\n",
       "      <th>customer_id</th>\n",
       "      <th>gender</th>\n",
       "      <th>age</th>\n",
       "      <th>category</th>\n",
       "      <th>quantity</th>\n",
       "      <th>selling_price_per_unit</th>\n",
       "      <th>cost_price_per_unit</th>\n",
       "      <th>payment_method</th>\n",
       "      <th>region</th>\n",
       "      <th>state</th>\n",
       "      <th>shopping_mall</th>\n",
       "    </tr>\n",
       "  </thead>\n",
       "  <tbody>\n",
       "    <tr>\n",
       "      <th>0</th>\n",
       "      <td>I138884</td>\n",
       "      <td>10/30/2016 9:58</td>\n",
       "      <td>C241288</td>\n",
       "      <td>Female</td>\n",
       "      <td>28</td>\n",
       "      <td>Clothing</td>\n",
       "      <td>5</td>\n",
       "      <td>1500.40</td>\n",
       "      <td>1425.3800</td>\n",
       "      <td>Credit Card</td>\n",
       "      <td>South</td>\n",
       "      <td>Kentucky</td>\n",
       "      <td>Kanyon</td>\n",
       "    </tr>\n",
       "    <tr>\n",
       "      <th>1</th>\n",
       "      <td>I317333</td>\n",
       "      <td>10/30/2016 9:58</td>\n",
       "      <td>C111565</td>\n",
       "      <td>Male</td>\n",
       "      <td>21</td>\n",
       "      <td>Shoes</td>\n",
       "      <td>3</td>\n",
       "      <td>1800.51</td>\n",
       "      <td>1620.4590</td>\n",
       "      <td>Debit Card</td>\n",
       "      <td>South</td>\n",
       "      <td>Kentucky</td>\n",
       "      <td>Viaport Outlet</td>\n",
       "    </tr>\n",
       "    <tr>\n",
       "      <th>2</th>\n",
       "      <td>I127801</td>\n",
       "      <td>10/30/2016 9:58</td>\n",
       "      <td>C266599</td>\n",
       "      <td>Male</td>\n",
       "      <td>20</td>\n",
       "      <td>Clothing</td>\n",
       "      <td>1</td>\n",
       "      <td>300.08</td>\n",
       "      <td>295.0600</td>\n",
       "      <td>Cash</td>\n",
       "      <td>West</td>\n",
       "      <td>California</td>\n",
       "      <td>Metrocity</td>\n",
       "    </tr>\n",
       "    <tr>\n",
       "      <th>3</th>\n",
       "      <td>I173702</td>\n",
       "      <td>10/30/2016 9:58</td>\n",
       "      <td>C988172</td>\n",
       "      <td>Female</td>\n",
       "      <td>66</td>\n",
       "      <td>Shoes</td>\n",
       "      <td>5</td>\n",
       "      <td>3000.85</td>\n",
       "      <td>2900.7650</td>\n",
       "      <td>Credit Card</td>\n",
       "      <td>South</td>\n",
       "      <td>Florida</td>\n",
       "      <td>Metropol AVM</td>\n",
       "    </tr>\n",
       "    <tr>\n",
       "      <th>4</th>\n",
       "      <td>I337046</td>\n",
       "      <td>10/30/2016 9:59</td>\n",
       "      <td>C189076</td>\n",
       "      <td>Female</td>\n",
       "      <td>53</td>\n",
       "      <td>Books</td>\n",
       "      <td>4</td>\n",
       "      <td>60.60</td>\n",
       "      <td>45.4500</td>\n",
       "      <td>Cash</td>\n",
       "      <td>South</td>\n",
       "      <td>Florida</td>\n",
       "      <td>Kanyon</td>\n",
       "    </tr>\n",
       "    <tr>\n",
       "      <th>...</th>\n",
       "      <td>...</td>\n",
       "      <td>...</td>\n",
       "      <td>...</td>\n",
       "      <td>...</td>\n",
       "      <td>...</td>\n",
       "      <td>...</td>\n",
       "      <td>...</td>\n",
       "      <td>...</td>\n",
       "      <td>...</td>\n",
       "      <td>...</td>\n",
       "      <td>...</td>\n",
       "      <td>...</td>\n",
       "      <td>...</td>\n",
       "    </tr>\n",
       "    <tr>\n",
       "      <th>99452</th>\n",
       "      <td>I219422</td>\n",
       "      <td>11/15/2016 12:43</td>\n",
       "      <td>C441542</td>\n",
       "      <td>Female</td>\n",
       "      <td>45</td>\n",
       "      <td>Souvenir</td>\n",
       "      <td>5</td>\n",
       "      <td>58.65</td>\n",
       "      <td>43.9875</td>\n",
       "      <td>Credit Card</td>\n",
       "      <td>South</td>\n",
       "      <td>Alabama</td>\n",
       "      <td>Kanyon</td>\n",
       "    </tr>\n",
       "    <tr>\n",
       "      <th>99453</th>\n",
       "      <td>I325143</td>\n",
       "      <td>11/15/2016 12:43</td>\n",
       "      <td>C569580</td>\n",
       "      <td>Male</td>\n",
       "      <td>27</td>\n",
       "      <td>Food &amp; Beverage</td>\n",
       "      <td>2</td>\n",
       "      <td>10.46</td>\n",
       "      <td>7.3220</td>\n",
       "      <td>Cash</td>\n",
       "      <td>South</td>\n",
       "      <td>Alabama</td>\n",
       "      <td>Viaport Outlet</td>\n",
       "    </tr>\n",
       "    <tr>\n",
       "      <th>99454</th>\n",
       "      <td>I824010</td>\n",
       "      <td>11/15/2016 12:44</td>\n",
       "      <td>C103292</td>\n",
       "      <td>Male</td>\n",
       "      <td>63</td>\n",
       "      <td>Food &amp; Beverage</td>\n",
       "      <td>2</td>\n",
       "      <td>10.46</td>\n",
       "      <td>7.3220</td>\n",
       "      <td>Debit Card</td>\n",
       "      <td>South</td>\n",
       "      <td>Alabama</td>\n",
       "      <td>Metrocity</td>\n",
       "    </tr>\n",
       "    <tr>\n",
       "      <th>99455</th>\n",
       "      <td>I702964</td>\n",
       "      <td>11/15/2016 12:44</td>\n",
       "      <td>C800631</td>\n",
       "      <td>Male</td>\n",
       "      <td>56</td>\n",
       "      <td>Technology</td>\n",
       "      <td>4</td>\n",
       "      <td>4200.00</td>\n",
       "      <td>3780.0000</td>\n",
       "      <td>Cash</td>\n",
       "      <td>South</td>\n",
       "      <td>Georgia</td>\n",
       "      <td>Istinye Park</td>\n",
       "    </tr>\n",
       "    <tr>\n",
       "      <th>99456</th>\n",
       "      <td>I232867</td>\n",
       "      <td>11/15/2016 12:44</td>\n",
       "      <td>C273973</td>\n",
       "      <td>Female</td>\n",
       "      <td>36</td>\n",
       "      <td>Souvenir</td>\n",
       "      <td>3</td>\n",
       "      <td>35.19</td>\n",
       "      <td>24.6330</td>\n",
       "      <td>Credit Card</td>\n",
       "      <td>South</td>\n",
       "      <td>Georgia</td>\n",
       "      <td>Mall of Istanbul</td>\n",
       "    </tr>\n",
       "  </tbody>\n",
       "</table>\n",
       "<p>99457 rows × 13 columns</p>\n",
       "</div>"
      ],
      "text/plain": [
       "      invoice_no      invoice_date customer_id  gender  age         category  \\\n",
       "0        I138884   10/30/2016 9:58     C241288  Female   28         Clothing   \n",
       "1        I317333   10/30/2016 9:58     C111565    Male   21            Shoes   \n",
       "2        I127801   10/30/2016 9:58     C266599    Male   20         Clothing   \n",
       "3        I173702   10/30/2016 9:58     C988172  Female   66            Shoes   \n",
       "4        I337046   10/30/2016 9:59     C189076  Female   53            Books   \n",
       "...          ...               ...         ...     ...  ...              ...   \n",
       "99452    I219422  11/15/2016 12:43     C441542  Female   45         Souvenir   \n",
       "99453    I325143  11/15/2016 12:43     C569580    Male   27  Food & Beverage   \n",
       "99454    I824010  11/15/2016 12:44     C103292    Male   63  Food & Beverage   \n",
       "99455    I702964  11/15/2016 12:44     C800631    Male   56       Technology   \n",
       "99456    I232867  11/15/2016 12:44     C273973  Female   36         Souvenir   \n",
       "\n",
       "       quantity  selling_price_per_unit  cost_price_per_unit payment_method  \\\n",
       "0             5                 1500.40            1425.3800    Credit Card   \n",
       "1             3                 1800.51            1620.4590     Debit Card   \n",
       "2             1                  300.08             295.0600           Cash   \n",
       "3             5                 3000.85            2900.7650    Credit Card   \n",
       "4             4                   60.60              45.4500           Cash   \n",
       "...         ...                     ...                  ...            ...   \n",
       "99452         5                   58.65              43.9875    Credit Card   \n",
       "99453         2                   10.46               7.3220           Cash   \n",
       "99454         2                   10.46               7.3220     Debit Card   \n",
       "99455         4                 4200.00            3780.0000           Cash   \n",
       "99456         3                   35.19              24.6330    Credit Card   \n",
       "\n",
       "      region       state     shopping_mall  \n",
       "0      South    Kentucky            Kanyon  \n",
       "1      South    Kentucky    Viaport Outlet  \n",
       "2       West  California         Metrocity  \n",
       "3      South     Florida      Metropol AVM  \n",
       "4      South     Florida            Kanyon  \n",
       "...      ...         ...               ...  \n",
       "99452  South     Alabama            Kanyon  \n",
       "99453  South     Alabama    Viaport Outlet  \n",
       "99454  South     Alabama         Metrocity  \n",
       "99455  South     Georgia      Istinye Park  \n",
       "99456  South     Georgia  Mall of Istanbul  \n",
       "\n",
       "[99457 rows x 13 columns]"
      ]
     },
     "execution_count": 2,
     "metadata": {},
     "output_type": "execute_result"
    }
   ],
   "source": [
    "df = pd.read_csv('Different_stores_dataset.csv')\n",
    "df"
   ]
  },
  {
   "cell_type": "markdown",
   "id": "62298c37-3503-467f-85e3-1a44f163a334",
   "metadata": {},
   "source": [
    "### 1. Check missing values and duplicate records"
   ]
  },
  {
   "cell_type": "code",
   "execution_count": null,
   "id": "5d480961-7e4a-47ac-9d4a-00e1c4274641",
   "metadata": {},
   "outputs": [],
   "source": []
  },
  {
   "cell_type": "markdown",
   "id": "c70db244-711e-4406-8d14-40c08539b8e5",
   "metadata": {},
   "source": [
    "### 2. Add column name 'Total Sales'"
   ]
  },
  {
   "cell_type": "code",
   "execution_count": 3,
   "id": "34571893-a03e-4ea0-bc72-62139622c1c6",
   "metadata": {},
   "outputs": [
    {
     "data": {
      "text/html": [
       "<div>\n",
       "<style scoped>\n",
       "    .dataframe tbody tr th:only-of-type {\n",
       "        vertical-align: middle;\n",
       "    }\n",
       "\n",
       "    .dataframe tbody tr th {\n",
       "        vertical-align: top;\n",
       "    }\n",
       "\n",
       "    .dataframe thead th {\n",
       "        text-align: right;\n",
       "    }\n",
       "</style>\n",
       "<table border=\"1\" class=\"dataframe\">\n",
       "  <thead>\n",
       "    <tr style=\"text-align: right;\">\n",
       "      <th></th>\n",
       "      <th>invoice_no</th>\n",
       "      <th>invoice_date</th>\n",
       "      <th>customer_id</th>\n",
       "      <th>gender</th>\n",
       "      <th>age</th>\n",
       "      <th>category</th>\n",
       "      <th>quantity</th>\n",
       "      <th>selling_price_per_unit</th>\n",
       "      <th>cost_price_per_unit</th>\n",
       "      <th>payment_method</th>\n",
       "      <th>region</th>\n",
       "      <th>state</th>\n",
       "      <th>shopping_mall</th>\n",
       "      <th>Total Sales</th>\n",
       "    </tr>\n",
       "  </thead>\n",
       "  <tbody>\n",
       "    <tr>\n",
       "      <th>0</th>\n",
       "      <td>I138884</td>\n",
       "      <td>10/30/2016 9:58</td>\n",
       "      <td>C241288</td>\n",
       "      <td>Female</td>\n",
       "      <td>28</td>\n",
       "      <td>Clothing</td>\n",
       "      <td>5</td>\n",
       "      <td>1500.40</td>\n",
       "      <td>1425.380</td>\n",
       "      <td>Credit Card</td>\n",
       "      <td>South</td>\n",
       "      <td>Kentucky</td>\n",
       "      <td>Kanyon</td>\n",
       "      <td>7502.00</td>\n",
       "    </tr>\n",
       "    <tr>\n",
       "      <th>1</th>\n",
       "      <td>I317333</td>\n",
       "      <td>10/30/2016 9:58</td>\n",
       "      <td>C111565</td>\n",
       "      <td>Male</td>\n",
       "      <td>21</td>\n",
       "      <td>Shoes</td>\n",
       "      <td>3</td>\n",
       "      <td>1800.51</td>\n",
       "      <td>1620.459</td>\n",
       "      <td>Debit Card</td>\n",
       "      <td>South</td>\n",
       "      <td>Kentucky</td>\n",
       "      <td>Viaport Outlet</td>\n",
       "      <td>5401.53</td>\n",
       "    </tr>\n",
       "    <tr>\n",
       "      <th>2</th>\n",
       "      <td>I127801</td>\n",
       "      <td>10/30/2016 9:58</td>\n",
       "      <td>C266599</td>\n",
       "      <td>Male</td>\n",
       "      <td>20</td>\n",
       "      <td>Clothing</td>\n",
       "      <td>1</td>\n",
       "      <td>300.08</td>\n",
       "      <td>295.060</td>\n",
       "      <td>Cash</td>\n",
       "      <td>West</td>\n",
       "      <td>California</td>\n",
       "      <td>Metrocity</td>\n",
       "      <td>300.08</td>\n",
       "    </tr>\n",
       "    <tr>\n",
       "      <th>3</th>\n",
       "      <td>I173702</td>\n",
       "      <td>10/30/2016 9:58</td>\n",
       "      <td>C988172</td>\n",
       "      <td>Female</td>\n",
       "      <td>66</td>\n",
       "      <td>Shoes</td>\n",
       "      <td>5</td>\n",
       "      <td>3000.85</td>\n",
       "      <td>2900.765</td>\n",
       "      <td>Credit Card</td>\n",
       "      <td>South</td>\n",
       "      <td>Florida</td>\n",
       "      <td>Metropol AVM</td>\n",
       "      <td>15004.25</td>\n",
       "    </tr>\n",
       "    <tr>\n",
       "      <th>4</th>\n",
       "      <td>I337046</td>\n",
       "      <td>10/30/2016 9:59</td>\n",
       "      <td>C189076</td>\n",
       "      <td>Female</td>\n",
       "      <td>53</td>\n",
       "      <td>Books</td>\n",
       "      <td>4</td>\n",
       "      <td>60.60</td>\n",
       "      <td>45.450</td>\n",
       "      <td>Cash</td>\n",
       "      <td>South</td>\n",
       "      <td>Florida</td>\n",
       "      <td>Kanyon</td>\n",
       "      <td>242.40</td>\n",
       "    </tr>\n",
       "  </tbody>\n",
       "</table>\n",
       "</div>"
      ],
      "text/plain": [
       "  invoice_no     invoice_date customer_id  gender  age  category  quantity  \\\n",
       "0    I138884  10/30/2016 9:58     C241288  Female   28  Clothing         5   \n",
       "1    I317333  10/30/2016 9:58     C111565    Male   21     Shoes         3   \n",
       "2    I127801  10/30/2016 9:58     C266599    Male   20  Clothing         1   \n",
       "3    I173702  10/30/2016 9:58     C988172  Female   66     Shoes         5   \n",
       "4    I337046  10/30/2016 9:59     C189076  Female   53     Books         4   \n",
       "\n",
       "   selling_price_per_unit  cost_price_per_unit payment_method region  \\\n",
       "0                 1500.40             1425.380    Credit Card  South   \n",
       "1                 1800.51             1620.459     Debit Card  South   \n",
       "2                  300.08              295.060           Cash   West   \n",
       "3                 3000.85             2900.765    Credit Card  South   \n",
       "4                   60.60               45.450           Cash  South   \n",
       "\n",
       "        state   shopping_mall  Total Sales  \n",
       "0    Kentucky          Kanyon      7502.00  \n",
       "1    Kentucky  Viaport Outlet      5401.53  \n",
       "2  California       Metrocity       300.08  \n",
       "3     Florida    Metropol AVM     15004.25  \n",
       "4     Florida          Kanyon       242.40  "
      ]
     },
     "execution_count": 3,
     "metadata": {},
     "output_type": "execute_result"
    }
   ],
   "source": [
    "df['Total Sales'] = df['quantity'] * df['selling_price_per_unit']\n",
    "df.head()\n"
   ]
  },
  {
   "cell_type": "markdown",
   "id": "cb7a68ea-fe72-439b-85ac-3a443d67c2f2",
   "metadata": {},
   "source": [
    "### 3. How many customers have age more than 60?"
   ]
  },
  {
   "cell_type": "code",
   "execution_count": 4,
   "id": "0eeaa7e9-8287-46ff-a9ad-785167aaaf39",
   "metadata": {},
   "outputs": [
    {
     "name": "stdout",
     "output_type": "stream",
     "text": [
      "Number of customers with age greater than 60: 17169\n"
     ]
    }
   ],
   "source": [
    "customers_over_60 = df[df['age'] > 60]\n",
    "\n",
    "num_customers_over_60 = customers_over_60.shape[0]\n",
    "\n",
    "print(f\"Number of customers with age greater than 60: {num_customers_over_60}\")"
   ]
  },
  {
   "cell_type": "markdown",
   "id": "02f93e1f-5e74-4c7f-8934-92156288e982",
   "metadata": {},
   "source": [
    "### 4. How many unique customer_id entries are there? Do any customers make multiple purchases?"
   ]
  },
  {
   "cell_type": "code",
   "execution_count": 5,
   "id": "03aa049a-5af6-4e0b-9e55-ab9db9d2ccac",
   "metadata": {},
   "outputs": [
    {
     "name": "stdout",
     "output_type": "stream",
     "text": [
      "Number of unique customers: 99457\n",
      "Number of customers who made multiple purchases: 0\n"
     ]
    }
   ],
   "source": [
    "unique_customers = df['customer_id'].nunique()\n",
    "\n",
    "customer_purchase_counts = df['customer_id'].value_counts()\n",
    "\n",
    "multiple_purchases = customer_purchase_counts[customer_purchase_counts > 1]\n",
    "\n",
    "print(f\"Number of unique customers: {unique_customers}\")\n",
    "print(f\"Number of customers who made multiple purchases: {len(multiple_purchases)}\")\n"
   ]
  },
  {
   "cell_type": "markdown",
   "id": "b5bafe98-cfe8-403e-9027-7c3c6208334b",
   "metadata": {},
   "source": [
    "### 5. Are there more male or female customers, Show in Pie Chart?"
   ]
  },
  {
   "cell_type": "code",
   "execution_count": 8,
   "id": "31c235c6-ffee-4033-9c80-0f557789f89d",
   "metadata": {},
   "outputs": [
    {
     "data": {
      "image/png": "[encoded data removed]",
      "text/plain": [
       "<Figure size 700x700 with 1 Axes>"
      ]
     },
     "metadata": {},
     "output_type": "display_data"
    }
   ],
   "source": [
    "df['gender'].value_counts().plot(kind='pie', autopct='%1.1f%%', colors=['lightblue', 'lightcoral'], figsize=(7, 7))\n",
    "\n",
    "plt.title('Gender Distribution of Customers')\n",
    "plt.ylabel('')\n",
    "plt.tight_layout()\n",
    "plt.show()\n"
   ]
  },
  {
   "cell_type": "markdown",
   "id": "fbd9773a-65d3-4fc8-b885-b337f2c82a1f",
   "metadata": {},
   "source": [
    "### 6. Which category is least popular among customers?"
   ]
  },
  {
   "cell_type": "code",
   "execution_count": 9,
   "id": "29b3056f-d47c-4026-aefd-d0282a3e6968",
   "metadata": {},
   "outputs": [
    {
     "name": "stdout",
     "output_type": "stream",
     "text": [
      "The least popular category among customers is 'Books' with 4981 transactions.\n"
     ]
    }
   ],
   "source": [
    "category_popularity = df['category'].value_counts()\n",
    "\n",
    "least_popular_category = category_popularity.idxmin()\n",
    "least_popular_count = category_popularity.min()\n",
    "\n",
    "print(f\"The least popular category among customers is '{least_popular_category}' with {least_popular_count} transactions.\")\n"
   ]
  },
  {
   "cell_type": "markdown",
   "id": "f460962d-92bb-40e5-9417-5647a3d2da5a",
   "metadata": {},
   "source": [
    "### 7. Which category has the highest sales volume?"
   ]
  },
  {
   "cell_type": "code",
   "execution_count": 10,
   "id": "56683c6d-12dd-4177-b21e-1e333a40c9dc",
   "metadata": {},
   "outputs": [
    {
     "name": "stdout",
     "output_type": "stream",
     "text": [
      "The category with the highest sales volume is 'Clothing' with a total sales volume of 103598.\n"
     ]
    }
   ],
   "source": [
    "category_sales_volume = df.groupby('category')['quantity'].sum()\n",
    "\n",
    "top_category = category_sales_volume.idxmax()\n",
    "top_sales_volume = category_sales_volume.max()\n",
    "\n",
    "print(f\"The category with the highest sales volume is '{top_category}' with a total sales volume of {top_sales_volume}.\")\n"
   ]
  },
  {
   "cell_type": "markdown",
   "id": "072ffb70-be13-4748-8379-3ab98cbde250",
   "metadata": {},
   "source": [
    "### 8. Add column name 'Total Profit'\n",
    "\n",
    "Total Profit=Total Sales−Total Costs"
   ]
  },
  {
   "cell_type": "code",
   "execution_count": 11,
   "id": "b09bc33a-2dcc-42d6-b1d0-fdb9103ed369",
   "metadata": {},
   "outputs": [
    {
     "data": {
      "text/html": [
       "<div>\n",
       "<style scoped>\n",
       "    .dataframe tbody tr th:only-of-type {\n",
       "        vertical-align: middle;\n",
       "    }\n",
       "\n",
       "    .dataframe tbody tr th {\n",
       "        vertical-align: top;\n",
       "    }\n",
       "\n",
       "    .dataframe thead th {\n",
       "        text-align: right;\n",
       "    }\n",
       "</style>\n",
       "<table border=\"1\" class=\"dataframe\">\n",
       "  <thead>\n",
       "    <tr style=\"text-align: right;\">\n",
       "      <th></th>\n",
       "      <th>invoice_no</th>\n",
       "      <th>invoice_date</th>\n",
       "      <th>customer_id</th>\n",
       "      <th>gender</th>\n",
       "      <th>age</th>\n",
       "      <th>category</th>\n",
       "      <th>quantity</th>\n",
       "      <th>selling_price_per_unit</th>\n",
       "      <th>cost_price_per_unit</th>\n",
       "      <th>payment_method</th>\n",
       "      <th>region</th>\n",
       "      <th>state</th>\n",
       "      <th>shopping_mall</th>\n",
       "      <th>Total Sales</th>\n",
       "      <th>Total Profit</th>\n",
       "    </tr>\n",
       "  </thead>\n",
       "  <tbody>\n",
       "    <tr>\n",
       "      <th>0</th>\n",
       "      <td>I138884</td>\n",
       "      <td>10/30/2016 9:58</td>\n",
       "      <td>C241288</td>\n",
       "      <td>Female</td>\n",
       "      <td>28</td>\n",
       "      <td>Clothing</td>\n",
       "      <td>5</td>\n",
       "      <td>1500.40</td>\n",
       "      <td>1425.380</td>\n",
       "      <td>Credit Card</td>\n",
       "      <td>South</td>\n",
       "      <td>Kentucky</td>\n",
       "      <td>Kanyon</td>\n",
       "      <td>7502.00</td>\n",
       "      <td>375.100</td>\n",
       "    </tr>\n",
       "    <tr>\n",
       "      <th>1</th>\n",
       "      <td>I317333</td>\n",
       "      <td>10/30/2016 9:58</td>\n",
       "      <td>C111565</td>\n",
       "      <td>Male</td>\n",
       "      <td>21</td>\n",
       "      <td>Shoes</td>\n",
       "      <td>3</td>\n",
       "      <td>1800.51</td>\n",
       "      <td>1620.459</td>\n",
       "      <td>Debit Card</td>\n",
       "      <td>South</td>\n",
       "      <td>Kentucky</td>\n",
       "      <td>Viaport Outlet</td>\n",
       "      <td>5401.53</td>\n",
       "      <td>540.153</td>\n",
       "    </tr>\n",
       "    <tr>\n",
       "      <th>2</th>\n",
       "      <td>I127801</td>\n",
       "      <td>10/30/2016 9:58</td>\n",
       "      <td>C266599</td>\n",
       "      <td>Male</td>\n",
       "      <td>20</td>\n",
       "      <td>Clothing</td>\n",
       "      <td>1</td>\n",
       "      <td>300.08</td>\n",
       "      <td>295.060</td>\n",
       "      <td>Cash</td>\n",
       "      <td>West</td>\n",
       "      <td>California</td>\n",
       "      <td>Metrocity</td>\n",
       "      <td>300.08</td>\n",
       "      <td>5.020</td>\n",
       "    </tr>\n",
       "    <tr>\n",
       "      <th>3</th>\n",
       "      <td>I173702</td>\n",
       "      <td>10/30/2016 9:58</td>\n",
       "      <td>C988172</td>\n",
       "      <td>Female</td>\n",
       "      <td>66</td>\n",
       "      <td>Shoes</td>\n",
       "      <td>5</td>\n",
       "      <td>3000.85</td>\n",
       "      <td>2900.765</td>\n",
       "      <td>Credit Card</td>\n",
       "      <td>South</td>\n",
       "      <td>Florida</td>\n",
       "      <td>Metropol AVM</td>\n",
       "      <td>15004.25</td>\n",
       "      <td>500.425</td>\n",
       "    </tr>\n",
       "    <tr>\n",
       "      <th>4</th>\n",
       "      <td>I337046</td>\n",
       "      <td>10/30/2016 9:59</td>\n",
       "      <td>C189076</td>\n",
       "      <td>Female</td>\n",
       "      <td>53</td>\n",
       "      <td>Books</td>\n",
       "      <td>4</td>\n",
       "      <td>60.60</td>\n",
       "      <td>45.450</td>\n",
       "      <td>Cash</td>\n",
       "      <td>South</td>\n",
       "      <td>Florida</td>\n",
       "      <td>Kanyon</td>\n",
       "      <td>242.40</td>\n",
       "      <td>60.600</td>\n",
       "    </tr>\n",
       "  </tbody>\n",
       "</table>\n",
       "</div>"
      ],
      "text/plain": [
       "  invoice_no     invoice_date customer_id  gender  age  category  quantity  \\\n",
       "0    I138884  10/30/2016 9:58     C241288  Female   28  Clothing         5   \n",
       "1    I317333  10/30/2016 9:58     C111565    Male   21     Shoes         3   \n",
       "2    I127801  10/30/2016 9:58     C266599    Male   20  Clothing         1   \n",
       "3    I173702  10/30/2016 9:58     C988172  Female   66     Shoes         5   \n",
       "4    I337046  10/30/2016 9:59     C189076  Female   53     Books         4   \n",
       "\n",
       "   selling_price_per_unit  cost_price_per_unit payment_method region  \\\n",
       "0                 1500.40             1425.380    Credit Card  South   \n",
       "1                 1800.51             1620.459     Debit Card  South   \n",
       "2                  300.08              295.060           Cash   West   \n",
       "3                 3000.85             2900.765    Credit Card  South   \n",
       "4                   60.60               45.450           Cash  South   \n",
       "\n",
       "        state   shopping_mall  Total Sales  Total Profit  \n",
       "0    Kentucky          Kanyon      7502.00       375.100  \n",
       "1    Kentucky  Viaport Outlet      5401.53       540.153  \n",
       "2  California       Metrocity       300.08         5.020  \n",
       "3     Florida    Metropol AVM     15004.25       500.425  \n",
       "4     Florida          Kanyon       242.40        60.600  "
      ]
     },
     "execution_count": 11,
     "metadata": {},
     "output_type": "execute_result"
    }
   ],
   "source": [
    "df['Total Profit'] = (df['selling_price_per_unit'] - df['cost_price_per_unit']) * df['quantity']\n",
    "df.head()"
   ]
  },
  {
   "cell_type": "markdown",
   "id": "25d34dd0-d3e7-4238-a0c5-7e65835affa4",
   "metadata": {},
   "source": [
    "### 9. Display the top 10 invoices with the highest quantities sold?"
   ]
  },
  {
   "cell_type": "code",
   "execution_count": 12,
   "id": "ee61296f-00a3-48db-95a2-5381d4d1fe37",
   "metadata": {},
   "outputs": [
    {
     "name": "stdout",
     "output_type": "stream",
     "text": [
      "    invoice_no customer_id  quantity  selling_price_per_unit  Total Sales\n",
      "100    I283443     C189493        15                 3150.00     47250.00\n",
      "275    I282789     C172185        12                   81.32       975.84\n",
      "109    I293215     C166635        12                  162.64      1951.68\n",
      "305    I115679     C266462        11                  300.08      3300.88\n",
      "129    I160221     C319231        10                  900.24      9002.40\n"
     ]
    }
   ],
   "source": [
    "top_5_quantities = df.sort_values(by='quantity', ascending=False).head(5)\n",
    "\n",
    "print(top_5_quantities[['invoice_no', 'customer_id', 'quantity', 'selling_price_per_unit', 'Total Sales']])\n"
   ]
  },
  {
   "cell_type": "markdown",
   "id": "c0dcf861-2b66-4157-a2c3-5933940128bc",
   "metadata": {},
   "source": [
    "### 10. Which payment method is most commonly used?"
   ]
  },
  {
   "cell_type": "code",
   "execution_count": 13,
   "id": "9987a0f3-a093-42ba-8785-a3ad3857be99",
   "metadata": {},
   "outputs": [
    {
     "name": "stdout",
     "output_type": "stream",
     "text": [
      "The most commonly used payment method is 'Cash' with 44447 occurrences.\n"
     ]
    }
   ],
   "source": [
    "payment_method_counts = df['payment_method'].value_counts()\n",
    "\n",
    "most_common_payment_method = payment_method_counts.idxmax()\n",
    "most_common_payment_count = payment_method_counts.max()\n",
    "\n",
    "print(f\"The most commonly used payment method is '{most_common_payment_method}' with {most_common_payment_count} occurrences.\")\n"
   ]
  },
  {
   "cell_type": "markdown",
   "id": "c7323023-4f9b-42ee-9088-6de00054ca8f",
   "metadata": {},
   "source": [
    "### 11. Total Sales with respect to region?"
   ]
  },
  {
   "cell_type": "code",
   "execution_count": 14,
   "id": "8d501389-9200-4e04-9e9f-bdfa9111550b",
   "metadata": {},
   "outputs": [
    {
     "name": "stdout",
     "output_type": "stream",
     "text": [
      "Total sales with respect to region:\n",
      "region\n",
      "West       79825624.03\n",
      "East       72280660.57\n",
      "Central    58803471.74\n",
      "South      40655491.64\n",
      "Name: Total Sales, dtype: float64\n"
     ]
    }
   ],
   "source": [
    "region_sales = df.groupby('region')['Total Sales'].sum()\n",
    "\n",
    "region_sales_sorted = region_sales.sort_values(ascending=False)\n",
    "\n",
    "print(\"Total sales with respect to region:\")\n",
    "print(region_sales_sorted)\n"
   ]
  },
  {
   "cell_type": "markdown",
   "id": "fefb09f1-94fc-48b1-b692-cb218fba0e1f",
   "metadata": {},
   "source": [
    "### 12. Sort Malls with average sales higher to lower?"
   ]
  },
  {
   "cell_type": "code",
   "execution_count": 15,
   "id": "985f4dc2-e5a4-4f4a-bc64-8c68b023d51a",
   "metadata": {},
   "outputs": [
    {
     "name": "stdout",
     "output_type": "stream",
     "text": [
      "Average sales with respect to shopping malls:\n",
      "shopping_mall\n",
      "Zorlu Center        2573.248351\n",
      "Kanyon              2550.618396\n",
      "Mall of Istanbul    2543.276766\n",
      "Viaport Outlet      2523.835118\n",
      "Istinye Park        2523.186677\n",
      "Metropol AVM        2497.777108\n",
      "Metrocity           2485.030133\n",
      "Name: Total Sales, dtype: float64\n"
     ]
    }
   ],
   "source": [
    "mall_sales_avg = df.groupby('shopping_mall')['Total Sales'].mean()\n",
    "\n",
    "mall_sales_avg_sorted = mall_sales_avg.sort_values(ascending=False)\n",
    "\n",
    "print(\"Average sales with respect to shopping malls:\")\n",
    "print(mall_sales_avg_sorted)\n"
   ]
  },
  {
   "cell_type": "markdown",
   "id": "d514fb1f-9c86-4bfa-b6db-1d79a40fd0ff",
   "metadata": {},
   "source": [
    "### 13. Sort categories with the highest profit margins display in bar plot?\n",
    "\n",
    "Profit Margin=(Total Sales/Total Profit)×100"
   ]
  },
  {
   "cell_type": "code",
   "execution_count": 18,
   "id": "fccfaf9c-969a-4cde-9cb1-4515fd90a3c0",
   "metadata": {},
   "outputs": [],
   "source": [
    "category_profit = df.groupby('category')['Total Profit'].sum()\n",
    "category_sales = df.groupby('category')['Total Sales'].sum()\n",
    "    \n",
    "category_profit_margin = (category_profit / category_sales) * 100\n",
    "    \n",
    "category_profit_margin_sorted = category_profit_margin.sort_values(ascending=False)"
   ]
  },
  {
   "cell_type": "code",
   "execution_count": 19,
   "id": "44224802-1537-44e8-b1b8-27af518f54bf",
   "metadata": {},
   "outputs": [
    {
     "data": {
      "image/png": "[encoded data removed]",
      "text/plain": [
       "<Figure size 1000x600 with 1 Axes>"
      ]
     },
     "metadata": {},
     "output_type": "display_data"
    }
   ],
   "source": [
    "plt.figure(figsize=(10, 6))\n",
    "category_profit_margin_sorted.plot(kind='bar', color='skyblue')\n",
    "plt.title('Categories with the Highest Profit Margins')\n",
    "plt.xlabel('Category')\n",
    "plt.ylabel('Profit Margin (%)')\n",
    "plt.xticks(rotation=45, ha='right')\n",
    "plt.tight_layout()\n",
    "plt.show()"
   ]
  },
  {
   "cell_type": "markdown",
   "id": "037e054f-3fa4-4859-b51a-55adeb675558",
   "metadata": {},
   "source": [
    "### 14.  What is the total number of transactions per region for each payment method?"
   ]
  },
  {
   "cell_type": "code",
   "execution_count": 33,
   "id": "48d25cb7-4be8-4e28-a105-255f72291a92",
   "metadata": {},
   "outputs": [
    {
     "name": "stdout",
     "output_type": "stream",
     "text": [
      "payment_method   Cash  Credit Card  Debit Card\n",
      "region                                        \n",
      "Central         10319         8140        4640\n",
      "East            12738         9817        5751\n",
      "South            7227         5698        3284\n",
      "West            14163        11276        6404\n"
     ]
    }
   ],
   "source": [
    "payment_method_by_region = df.pivot_table(index='region', columns='payment_method', aggfunc='size', fill_value=0)\n",
    "\n",
    "print(payment_method_by_region)\n"
   ]
  },
  {
   "cell_type": "markdown",
   "id": "3b048142-ea4e-4322-8964-48f1e95f91d7",
   "metadata": {},
   "source": [
    "### 15. How do sales in different categories compare between males and females?"
   ]
  },
  {
   "cell_type": "code",
   "execution_count": 25,
   "id": "7627bc33-8258-4a3b-bd10-08354426e347",
   "metadata": {},
   "outputs": [
    {
     "name": "stdout",
     "output_type": "stream",
     "text": [
      "gender                Female         Male\n",
      "category                                 \n",
      "Books              489420.75    345238.20\n",
      "Clothing         68260097.84  45754397.92\n",
      "Cosmetics         4068073.66   2728611.28\n",
      "Food & Beverage    505322.60    344233.37\n",
      "Shoes            39425167.30  27128284.17\n",
      "Souvenir           382867.20    252957.45\n",
      "Technology       34669950.00  23230200.00\n",
      "Toys              2416046.08   1564380.16\n"
     ]
    }
   ],
   "source": [
    "category_sales_gender_pivot = df.pivot_table(index='category', columns='gender', values='Total Sales', aggfunc='sum')\n",
    "print(category_sales_gender_pivot)\n"
   ]
  },
  {
   "cell_type": "code",
   "execution_count": null,
   "id": "916ed339-9dd6-43d4-a606-c155ecc9dde7",
   "metadata": {},
   "outputs": [],
   "source": []
  }
 ],
 "metadata": {
  "kernelspec": {
   "display_name": "Python 3 (ipykernel)",
   "language": "python",
   "name": "python3"
  },
  "language_info": {
   "codemirror_mode": {
    "name": "ipython",
    "version": 3
   },
   "file_extension": ".py",
   "mimetype": "text/x-python",
   "name": "python",
   "nbconvert_exporter": "python",
   "pygments_lexer": "ipython3",
   "version": "3.12.7"
  }
 },
 "nbformat": 4,
 "nbformat_minor": 5
}
